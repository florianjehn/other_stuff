{
 "cells": [
  {
   "cell_type": "markdown",
   "metadata": {},
   "source": [
    "# General Information\n",
    "* Please do not copy and paste solutions from other people, I would hate to give you 0 points. \n",
    "* You must not turn this notebook in later then Wednesday at midnight. After this you will not be able to upload the file and you will get 0 points\n",
    "* Upload your results as a notebook as lastname_firstname_final.ipynb\n",
    "* On Thursday you will present your results before the course. You have 10 minutes for your presentation (strict upper limit).\n",
    "* Use comments. Code without or bad comments will lose points. You do not have to comment every line. Just think about what comments your future self might find helpful.\n",
    "* You will get points for: \n",
    "    * Your Research Questions (do not make it too easy)\n",
    "    * The Jupyter Notebook you submit (good comments and code structure)\n",
    "    * Your two key figures (consider things like the data/ink ratio and the lie factor)\n",
    "    * Your presentation (make sure you know what your code does and what your figures show)\n",
    "* Do not start too late with this notebook. I guarantee you, it will take some time.\n",
    "* If an exercise is unclear or you find any mistakes, please contact me."
   ]
  },
  {
   "cell_type": "markdown",
   "metadata": {},
   "source": [
    "## Important Hint\n",
    "If you struggle with the tasks presented here, do not start banging your head against the wall. Take a step back, write down in normal english what you think your program should do. Then translate it to code. If you still struggle, take a look again at the exercises or look on the internet or books for new ones. Also, going for a walk and relaxing with something different like food or sports helps your head coming up with solution to programming problems on its own (just try it when you are stuck)."
   ]
  },
  {
   "cell_type": "markdown",
   "metadata": {},
   "source": [
    "# Final Project Schedule\n",
    "## Choose your dataset\n",
    "Your task is to pick one of the following datasets, derive two research question for it and create two figures that help explore your questions. Here are the datasets:\n",
    "* [Ocean Ship Logbooks (1750-1850)](https://www.kaggle.com/cwiloc/climate-data-from-ocean-ships)\n",
    "* [Chocolate Bar Ratings](https://www.kaggle.com/rtatman/chocolate-bar-ratings)\n",
    "* [Open Exoplanet Catalogue](https://www.kaggle.com/mrisdal/open-exoplanet-catalogue)\n",
    "* [U.S. Pollution Data](https://www.kaggle.com/sogun3/uspollution)\n",
    "* [Who eats the food we grow?](https://www.kaggle.com/dorbicycle/world-foodfeed-production)\n",
    "* [Red Wine Quality](https://www.kaggle.com/uciml/red-wine-quality-cortez-et-al-2009)\n",
    "* [Climate Change: Earth Surface Temperature Data](https://www.kaggle.com/berkeleyearth/climate-change-earth-surface-temperature-data)\n",
    "* [World Happiness Report](https://www.kaggle.com/unsdsn/world-happiness)\n",
    "* [Wildlife Trade Database](https://www.kaggle.com/cites/cites-wildlife-trade-database)\n",
    "* [Volcano Eruptions Global Distribution](https://www.kaggle.com/texasdave/volcano-eruptions)\n",
    "* [Where it Pays to Attend College](https://www.kaggle.com/wsj/college-salaries)\n",
    "* [Student Alcohol Consumption](https://www.kaggle.com/uciml/student-alcohol-consumption)\n",
    "* [Honeybees and Neonic Pesticides](https://www.kaggle.com/kevinzmith/honey-with-neonic-pesticide)\n",
    "* [Avocado Prices](https://www.kaggle.com/neuromusic/avocado-prices)\n",
    "* [Insect Light Trap](https://www.kaggle.com/University-of-Copenhagen/insect-light-trap)\n",
    "* [Craft Beer Dataset](https://www.kaggle.com/nickhould/craft-cans)\n",
    "* [Weather Archive Jena](https://www.kaggle.com/pankrzysiu/weather-archive-jena)\n",
    "* [World Glacier Inventory](https://www.kaggle.com/nsidcorg/glacier-inventory)\n",
    "* [Video Game Sales](https://www.kaggle.com/gregorut/videogamesales)\n",
    "* [Carbon Dioxide Levels in Atmospheres](https://www.kaggle.com/ucsandiego/carbon-dioxide)\n",
    "* [Game of Thrones Battles](https://www.kaggle.com/mylesoneill/game-of-thrones)\n",
    "* [Carbon Emissions from Electricity Production](https://www.kaggle.com/txtrouble/carbon-emissions)\n",
    "* [Oil Pipeline Accidents, 2010-2016](https://www.kaggle.com/usdot/pipeline-accidents)\n",
    "* [Mushroom Classification](https://www.kaggle.com/uciml/mushroom-classification)\n",
    "* [Countries of the World](https://www.kaggle.com/fernandol/countries-of-the-world)\n",
    "\n",
    "Choose the dataset, which interests you the most. When you have found one, write your full name below it [here](https://docs.google.com/document/d/1jqH58cdP_F2V1CQxPa19kRNC1z2iuykk3xpvQw0AnGk/edit?usp=sharing). Every dataset can only be worked on by one student. If someone already claimed the dataset you wanted you need to decide for another one. Once you have submitted your research questions to me, you cannot change the dataset anymore. "
   ]
  },
  {
   "cell_type": "markdown",
   "metadata": {},
   "source": [
    "## What will your research question be?\n",
    "For your dataset you should find two research questions. For every question you should create one (and only one) figure that gives an answer to your question. However, the figures can be as complicated as you like. Using several subplots might be a good idea.\n",
    "\n",
    "#### Send me a mail with your final dataset and your two research questions (do not send this notebook) not later than Monday 3 pm.\n",
    "\n"
   ]
  },
  {
   "cell_type": "markdown",
   "metadata": {},
   "source": [
    "### Research Question 1: Enter your research question here"
   ]
  },
  {
   "cell_type": "code",
   "execution_count": null,
   "metadata": {
    "collapsed": true
   },
   "outputs": [],
   "source": []
  },
  {
   "cell_type": "markdown",
   "metadata": {},
   "source": [
    "### Research Question 2: Enter your research question here"
   ]
  },
  {
   "cell_type": "code",
   "execution_count": null,
   "metadata": {
    "collapsed": true
   },
   "outputs": [],
   "source": []
  },
  {
   "cell_type": "markdown",
   "metadata": {},
   "source": [
    "# Presentations\n",
    "You will present your results on Thursday (or maybe Friday, if we take to long on Thursday). During the presentation you should:\n",
    "\n",
    "* Explain your research questions\n",
    "* Explain how you created the figures that answer the questions (do not go through your code line by line, but just give an overview)\n",
    "* Explain how the figures answer your questions\n",
    "* Explain what you learned from the figures and which conclusions can be drawn\n",
    "\n",
    "If something unexpected comes up in your figures, try to find an explanation and consult current literature about the topic. \n",
    "\n",
    "You can either use your own laptop or mine. Do not create a Powerpoint presentation. Just use the Jupyter Notebook.\n",
    "\n",
    "Note: You have 10 minutes max for your presentation. If you take more than 10 minutes, your presentation will be stopped. This will result in a lower grade."
   ]
  }
 ],
 "metadata": {
  "kernelspec": {
   "display_name": "Python 3",
   "language": "python",
   "name": "python3"
  },
  "language_info": {
   "codemirror_mode": {
    "name": "ipython",
    "version": 3
   },
   "file_extension": ".py",
   "mimetype": "text/x-python",
   "name": "python",
   "nbconvert_exporter": "python",
   "pygments_lexer": "ipython3",
   "version": "3.7.6"
  }
 },
 "nbformat": 4,
 "nbformat_minor": 2
}
