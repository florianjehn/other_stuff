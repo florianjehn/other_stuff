{
 "cells": [
  {
   "cell_type": "markdown",
   "metadata": {},
   "source": [
    "# General Information\n",
    "* Please do not copy and paste solutions from other people, I would hate to give you 0 points. \n",
    "* You must not turn this in later then Wednesday at midnight. After this you will not be able to upload the file and you will get 0 points\n",
    "* Upload your results as a notebook with the title lastname_firstname_final.ipynb\n",
    "* On Thursday and Friday you will present your code and results. This should take about 10 minutes, no powerpoint required. \n",
    "* Use comments. Code without or bad comments will lose points. You do not have to comment every line. Just think about what comments your future self might find helpful.\n",
    "* You will get points for: \n",
    "    * a working solution (50 Points)\n",
    "    * your explanation of your code in the presentation (40 Points)\n",
    "    * good comments and code structure (5 Points)\n",
    "    * solving the problem with pandas (5 Points)\n",
    "* The following tasks will make use of most things we learned in the course, so you should be able to do them all. They are possible without the use of pandas, but this will require a bit more elbow grease. \n",
    "* Do not start too late with this notebook. I guarantee you it will take some time.\n",
    "* For reference, my solution has a around 80 lines of code (including imports, header, comments and empty lines). \n",
    "* If you are not able to solve one (or more) of the tasks, you can send me an email to request dummy files you can use to work on the following tasks. \n",
    "* If an exercise is unclear or you find any mistakes, please contact me."
   ]
  },
  {
   "cell_type": "markdown",
   "metadata": {},
   "source": [
    "## Important Hint\n",
    "If you struggle with the tasks presented here, do not start banging your head against the wall. Take a step back, write down in normal english what you think your program should do. Then translate it to code. If you still struggle, take a look again at the exercises or look on the internet or books for new ones. Also, going for a walk and relaxing with something different like food or sports helps your head coming up with solution to programming problems on its own (just try it when you are stuck)."
   ]
  },
  {
   "cell_type": "markdown",
   "metadata": {},
   "source": [
    "# Information about the Data\n",
    "Together with this notebook I uploaded three files:\n",
    "* a pdf describing a landcover classification system\n",
    "* a txt file with a DEM and landcover information\n",
    "* a txt containing interpolated rainfall information for the DEM over several years [mm/day]\n",
    "\n",
    "## DEM/Land Cover File Structure\n",
    "Latitude, Longitude, Elevation, Landcover Type\n",
    "\n",
    "## Interpolated Rainfall File Structure\n",
    "Rows contain the values for a given point over the whole time period. Columns contain the values for all points for a given day. The row layout is equal to the DEM file. This means that the first row of the rainfall file contains the rainfall timeseries for the whole timeperiod for the point in the first row of the DEM file. "
   ]
  },
  {
   "cell_type": "markdown",
   "metadata": {},
   "source": [
    "# Task 1\n",
    "Read in the DEM/land cover file. Replace the rather detailed land cover classes with a more coarse classification. A sensible choice would be woods, .. and so forth. Save the results in a new file. Do not retain the old classification in the new file, do not overwrite the old file. "
   ]
  },
  {
   "cell_type": "code",
   "execution_count": null,
   "metadata": {
    "collapsed": true
   },
   "outputs": [],
   "source": []
  },
  {
   "cell_type": "markdown",
   "metadata": {},
   "source": [
    "# Task 2\n",
    "The data in the DEM/land cover file and the rainfall file are meant to be together, as they describe the same points. Therefore create a new file containing the information from the file you created in task 1 and the rainfall file. Due to an error in the calculations all rainfall data is also too big by a factor of ten. Fix this error (round to two digits). Save the results in a new file."
   ]
  },
  {
   "cell_type": "code",
   "execution_count": null,
   "metadata": {
    "collapsed": true
   },
   "outputs": [],
   "source": []
  },
  {
   "cell_type": "markdown",
   "metadata": {},
   "source": [
    "# Task 3\n",
    "Read in the file you created in task 2. Next create a timeseries containing a single rainfall value for every day for every combination of an elevation above or below 500 m and your landuse classes. Save the results in seperate files. In the end you should have two files for every landuse class you defined, one for the points above 500 m and one for the points below. One timeseries (e.g. wood above 500 m) could look something like this:"
   ]
  },
  {
   "cell_type": "code",
   "execution_count": null,
   "metadata": {
    "collapsed": true
   },
   "outputs": [],
   "source": [
    "# Your solution does not have to look exactly the same. This is just a made up example.\n",
    "\n",
    "Index \tWood above 500 m\n",
    "Day 1 \t0.2\n",
    "Day 2 \t0.5\n",
    "Day 3 \t1.0\n",
    "Day 4 \t0.7"
   ]
  },
  {
   "cell_type": "code",
   "execution_count": null,
   "metadata": {
    "collapsed": true
   },
   "outputs": [],
   "source": []
  },
  {
   "cell_type": "markdown",
   "metadata": {},
   "source": [
    "# Task 4\n",
    "Create a figure that shows the frequency distribution of the values for every time series you created in task 3 in a seperate subplot. Save the figure as a png and make certain you have a good data ink ratio and labelled everything correctly. \n",
    "\n",
    "Think about the different possibilities to display a frequency distribution. You should be able to give a short explanation for your choice of figure. Also, explain what insights the figure could give you.\n",
    "\n",
    "Hint: There is more than one way to display frequency distributions."
   ]
  },
  {
   "cell_type": "code",
   "execution_count": null,
   "metadata": {
    "collapsed": true
   },
   "outputs": [],
   "source": []
  }
 ],
 "metadata": {
  "kernelspec": {
   "display_name": "Python 3",
   "language": "python",
   "name": "python3"
  },
  "language_info": {
   "codemirror_mode": {
    "name": "ipython",
    "version": 3
   },
   "file_extension": ".py",
   "mimetype": "text/x-python",
   "name": "python",
   "nbconvert_exporter": "python",
   "pygments_lexer": "ipython3",
   "version": "3.6.1"
  }
 },
 "nbformat": 4,
 "nbformat_minor": 2
}
