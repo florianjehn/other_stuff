{
 "cells": [
  {
   "cell_type": "markdown",
   "metadata": {},
   "source": [
    "# General Information\n",
    "* Please do not copy and paste solutions from other people, I would hate to give you 0 points. \n",
    "* You must not turn this in later then Wednesday at midnight. After this you will not be able to upload the file and you will get 0 points. \n",
    "* On Thursday and Friday you will present your code and results. This should take about 10 minutes, no powerpoint required. \n",
    "* Use comments. Code without or bad comments will lose points. You do not have to comment every line. Just think about what comments your future self might find helpful.\n",
    "* You will get points for: \n",
    "    * a right solution\n",
    "    * your explanation of your code in the presentation \n",
    "    * good code structure\n",
    "    * good comments\n",
    "    * elegant solutions\n",
    "* You can use this notebook for uploading or a python file, your choice. \n",
    "* If an exercise is unclear or you find any mistakes, please contact me."
   ]
  },
  {
   "cell_type": "markdown",
   "metadata": {},
   "source": [
    "# Information about the Data\n",
    "Together with this notebook I uploaded three files:\n",
    "* a pdf describing a landcover classification system\n",
    "* a txt file with a DEM and landcover information\n",
    "* a txt containing interpolated rainfall information for the DEM over several years\n",
    "\n",
    "## DEM/Landcover File Structure\n",
    "Latitude Longitude Elevation Landcover\n",
    "\n",
    "## Interpolated Rainfall File Structure\n",
    "Rows contain the values for a given point over the whole time period. Columns contain the values for all points for a given day. The row layout is equal to the DEM file. This means that the first row of the rainfall file contains the rainfall timeseries for the whole timeperiod for the point in the first row of the DEM file. "
   ]
  },
  {
   "cell_type": "markdown",
   "metadata": {},
   "source": [
    "# Task 1\n",
    "Read in the "
   ]
  }
 ],
 "metadata": {
  "kernelspec": {
   "display_name": "Python 3",
   "language": "python",
   "name": "python3"
  },
  "language_info": {
   "codemirror_mode": {
    "name": "ipython",
    "version": 3
   },
   "file_extension": ".py",
   "mimetype": "text/x-python",
   "name": "python",
   "nbconvert_exporter": "python",
   "pygments_lexer": "ipython3",
   "version": "3.6.1"
  }
 },
 "nbformat": 4,
 "nbformat_minor": 2
}
