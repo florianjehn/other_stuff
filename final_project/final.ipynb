{
 "cells": [
  {
   "cell_type": "markdown",
   "metadata": {},
   "source": [
    "# General Information\n",
    "* Please do not copy and paste solutions from other people, I would hate to give you 0 points. \n",
    "* You must not turn this in later then Wednesday at midnight. After this you will not be able to upload the file and you will get 0 points.\n",
    "* Upload your file as lastname_firstname_final.py (or .ipynb).\n",
    "* On Thursday and Friday you will present your code and results. This should take about 10 minutes, no powerpoint required. \n",
    "* Use comments. Code without or bad comments will lose points. You do not have to comment every line. Just think about what comments your future self might find helpful.\n",
    "* You will get points for: \n",
    "    * a working solution (this will get you most of the points)\n",
    "    * your explanation of your code in the presentation \n",
    "    * good comments\n",
    "    * elegant solutions\n",
    "* You can use this notebook for uploading or a python file, your choice. \n",
    "* The following tasks will make use of most things we learned in the course, so you should be able to do them all. They are possible without the use of pandas, but this will require a bit more elbow grease. \n",
    "* Do not start too late with this notebook. I guarantee you it will take some time.\n",
    "* For reference, my solution has a around 80 lines of code (including imports, header, comments and empty lines). \n",
    "* If an exercise is unclear or you find any mistakes, please contact me."
   ]
  },
  {
   "cell_type": "markdown",
   "metadata": {},
   "source": [
    "# Information about the Data\n",
    "Together with this notebook I uploaded three files:\n",
    "* a pdf describing a landcover classification system\n",
    "* a txt file with a DEM and landcover information\n",
    "* a txt containing interpolated rainfall information for the DEM over several years [mm/day]\n",
    "\n",
    "## DEM/Land Cover File Structure\n",
    "Latitude Longitude Elevation Landcover\n",
    "\n",
    "## Interpolated Rainfall File Structure\n",
    "Rows contain the values for a given point over the whole time period. Columns contain the values for all points for a given day. The row layout is equal to the DEM file. This means that the first row of the rainfall file contains the rainfall timeseries for the whole timeperiod for the point in the first row of the DEM file. "
   ]
  },
  {
   "cell_type": "markdown",
   "metadata": {},
   "source": [
    "# Task 1\n",
    "Read in the DEM/land cover file. Replace the rather detailed land cover classes with a more coarse classification. A sensible choice would be woods, .. and so forth. Save the results in a new file. Do not retain the old classification in the new file, do not overwrite the old file. "
   ]
  },
  {
   "cell_type": "code",
   "execution_count": null,
   "metadata": {
    "collapsed": true
   },
   "outputs": [],
   "source": []
  },
  {
   "cell_type": "markdown",
   "metadata": {},
   "source": [
    "# Task 2\n",
    "The data in the DEM/land cover file and the rainfall file are meant to be together, as they describe the same points. Therefore create a new file containing the information from the file you created in task 1 and the rainfall file. Due to an error in the calculations all rainfall data is also too big by a factor of ten. Fix this error (round to two digits). Save the results in a new file."
   ]
  },
  {
   "cell_type": "code",
   "execution_count": null,
   "metadata": {},
   "outputs": [],
   "source": []
  },
  {
   "cell_type": "markdown",
   "metadata": {},
   "source": [
    "# Task 3\n",
    "Read in the file you created in task 2. Next create a timeseries containing a single rainfall value for every day for every combination of an elevation above or below 500 m and your landuse classes. Save the results in seperate files. In the end you should have two files for every landuse class you defined, one for the points above 500 m and one for the points below. One timeseries (e.g. wood above 500 m) could look something like this:"
   ]
  },
  {
   "cell_type": "code",
   "execution_count": 8,
   "metadata": {},
   "outputs": [
    {
     "data": {
      "text/html": [
       "<div>\n",
       "<style scoped>\n",
       "    .dataframe tbody tr th:only-of-type {\n",
       "        vertical-align: middle;\n",
       "    }\n",
       "\n",
       "    .dataframe tbody tr th {\n",
       "        vertical-align: top;\n",
       "    }\n",
       "\n",
       "    .dataframe thead th {\n",
       "        text-align: right;\n",
       "    }\n",
       "</style>\n",
       "<table border=\"1\" class=\"dataframe\">\n",
       "  <thead>\n",
       "    <tr style=\"text-align: right;\">\n",
       "      <th></th>\n",
       "      <th>Wood above 500 m</th>\n",
       "    </tr>\n",
       "  </thead>\n",
       "  <tbody>\n",
       "    <tr>\n",
       "      <th>Day 1</th>\n",
       "      <td>0.2</td>\n",
       "    </tr>\n",
       "    <tr>\n",
       "      <th>Day 2</th>\n",
       "      <td>0.5</td>\n",
       "    </tr>\n",
       "    <tr>\n",
       "      <th>Day 3</th>\n",
       "      <td>1.0</td>\n",
       "    </tr>\n",
       "    <tr>\n",
       "      <th>Day 4</th>\n",
       "      <td>0.7</td>\n",
       "    </tr>\n",
       "  </tbody>\n",
       "</table>\n",
       "</div>"
      ],
      "text/plain": [
       "       Wood above 500 m\n",
       "Day 1               0.2\n",
       "Day 2               0.5\n",
       "Day 3               1.0\n",
       "Day 4               0.7"
      ]
     },
     "execution_count": 8,
     "metadata": {},
     "output_type": "execute_result"
    }
   ],
   "source": [
    "# This is an example, you should not use this code for your solution.\n",
    "# Also your solution does not have to look exactly the same. \n",
    "import pandas as pd\n",
    "timeseries = [{\"Day 1\":0.2, \"Day 2\": 0.5, \"Day 3\": 1, \"Day 4\": 0.7}]\n",
    "df = pd.DataFrame(timeseries).transpose()\n",
    "df.columns=[\"Wood above 500 m\"]\n",
    "df"
   ]
  },
  {
   "cell_type": "code",
   "execution_count": null,
   "metadata": {
    "collapsed": true
   },
   "outputs": [],
   "source": []
  },
  {
   "cell_type": "markdown",
   "metadata": {},
   "source": [
    "# Task 4\n",
    "Create a figure that shows the frequency distribution of the values for every time series you created in task 3 in a seperate subplot. Save the figure as a png and make certain you have a good data ink ratio and labelled everything correctly. \n",
    "\n",
    "Think about the different possibilities to display a frequency distribution. You should be able to give a short explanation for your choice of figure. Also, explain what insights the figure could give you."
   ]
  },
  {
   "cell_type": "code",
   "execution_count": null,
   "metadata": {
    "collapsed": true
   },
   "outputs": [],
   "source": []
  }
 ],
 "metadata": {
  "kernelspec": {
   "display_name": "Python 3",
   "language": "python",
   "name": "python3"
  },
  "language_info": {
   "codemirror_mode": {
    "name": "ipython",
    "version": 3
   },
   "file_extension": ".py",
   "mimetype": "text/x-python",
   "name": "python",
   "nbconvert_exporter": "python",
   "pygments_lexer": "ipython3",
   "version": "3.6.1"
  }
 },
 "nbformat": 4,
 "nbformat_minor": 2
}
