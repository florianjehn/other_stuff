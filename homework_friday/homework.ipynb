{
 "cells": [
  {
   "cell_type": "markdown",
   "metadata": {},
   "source": [
    "# General Information\n",
    "* Please do not copy and paste solutions from other people, I would hate to give you 0 points. \n",
    "* You need 100 points to get the best grade. The amount of points per exercise is marked behind them. The total adds up to 105, so you do not have to get everything right for the best grade.\n",
    "* You must not turn this in later then Monday at 23.59. After this you will not be able to upload the file and you will get 0 points. \n",
    "* Use comments. You do not have to comment every line. Just think about what comments your future self might find helpful.\n",
    "* If the Exercises uses the phrase \"a function\", the solution should contain a function! Please make sure that it does.\n",
    "* Please upload your solution in the form of this notebook in the format lastname_firstname_homework.ipynb (to upload it in stud.ip you have to put it in a .zip file)\n",
    "* If an exercise is unclear or you find any mistakes, please contact me.\n",
    "* Only exercise 2 needs the input function. "
   ]
  },
  {
   "cell_type": "markdown",
   "metadata": {},
   "source": [
    "# Important\n",
    "You will only get points for an exercise, if it does what is specified in the exercises text. It does not matter how you accomplish it. Make sure to read the instructions carefully. Also, do not overthink the exercises, some of them are just very easy and do not have any hidden difficulties.\n",
    "\n"
   ]
  },
  {
   "cell_type": "markdown",
   "metadata": {
    "collapsed": true
   },
   "source": [
    "# Exercise 1 (5 Points)\n",
    "Write a program that prints your name (and does nothing else!). "
   ]
  },
  {
   "cell_type": "code",
   "execution_count": null,
   "metadata": {
    "collapsed": true,
    "scrolled": true
   },
   "outputs": [],
   "source": []
  },
  {
   "cell_type": "markdown",
   "metadata": {},
   "source": [
    "# Exercise 2 (10 Points)\n",
    "Write a program that prompts the user for a number. If the number is below 0 it should print: \"A bit negative today aren't we?\". Otherwise the message should be: \"Yeah, positive vibes!\"."
   ]
  },
  {
   "cell_type": "code",
   "execution_count": null,
   "metadata": {
    "collapsed": true,
    "scrolled": true
   },
   "outputs": [],
   "source": []
  },
  {
   "cell_type": "markdown",
   "metadata": {},
   "source": [
    "# Exercise 3 (15 Points)\n",
    "Write a function that repeatetly produces a random integer between 25 and 75. Check every time if the number is divisible by three or seven without a remainder. If this has been the case five times the function should stop and return the largest of the five numbers that has been divisible by three. On every iteration the program should print the number it randomly created. "
   ]
  },
  {
   "cell_type": "code",
   "execution_count": null,
   "metadata": {
    "collapsed": true,
    "scrolled": true
   },
   "outputs": [],
   "source": []
  },
  {
   "cell_type": "markdown",
   "metadata": {},
   "source": [
    "# Exercise 4 (15 Points)\n",
    "Write a function that takes two lists as its parameters and checks if they have the same length. If this is not the case the function should raise a ValueError (together with a meaningful error message). If they have the same length the function should create a dictionary, using the first list for keys and the second list for values. The creation of the dictionary should happen in a try except statement, for the case the first list contains mutable types (which should not be used for keys). Finally, the function should return the dictionary.\n",
    "\n",
    "Hint: The zip keyword allows you to iterate over several lists at once. "
   ]
  },
  {
   "cell_type": "code",
   "execution_count": null,
   "metadata": {
    "collapsed": true,
    "scrolled": true
   },
   "outputs": [],
   "source": []
  },
  {
   "cell_type": "markdown",
   "metadata": {},
   "source": [
    "# Exercise 6 (10 Points)\n",
    "Write a function that has a list as a parameter and calculates the cumulative sums of that list and returns the  list with the cumulative sums. The function should be able to handle lists with entries that are not numbers and not just crash in this case. It should inform the user on what went wrong. \n",
    "\n",
    "Hint: Make sure you understand what the difference is between a cumulative sum and a normal sum.\n",
    "\n",
    "Hint: For the list [1,2,4] the cumulative sums are [1,3,7]. Use this to test your function."
   ]
  },
  {
   "cell_type": "code",
   "execution_count": null,
   "metadata": {
    "collapsed": true,
    "scrolled": true
   },
   "outputs": [],
   "source": []
  },
  {
   "cell_type": "markdown",
   "metadata": {},
   "source": [
    "# Exercise 7 (10 Points)\n",
    "Imagine a two-dimensional coordinate system. When you create a point in this coordinate system it has an absolute distance from the point (0,0). Write a function that takes a point and calculates its distance from (0,0) and return the calculated distance. The function should make sure that the passed argument is a tuple of length two, otherwise it should raise a value error with a meaningful error message. \n",
    "\n",
    "Hint: This is the same calculation as when you want to calculate the longest side of a right-angled triangle (hypotenuse). "
   ]
  },
  {
   "cell_type": "code",
   "execution_count": null,
   "metadata": {},
   "outputs": [],
   "source": []
  },
  {
   "cell_type": "markdown",
   "metadata": {},
   "source": [
    "# Exercise 8 (15 Points)\n",
    "Write a function that accepts a dictionary as a parameter. The function should make sure that the parameter is a dictionary. Then the function should add all values in the dictionary and return the sum. Make sure that the function is able to handle it when one or more of the values are not numbers."
   ]
  },
  {
   "cell_type": "code",
   "execution_count": null,
   "metadata": {
    "collapsed": true,
    "scrolled": true
   },
   "outputs": [],
   "source": []
  },
  {
   "cell_type": "markdown",
   "metadata": {},
   "source": [
    "# Exercise 9 (15 Points)\n",
    "When playing scrabble different characters give a different amount of points. Use the dictionary below to create a function that takes a word as a parameter and returns the scrabble points for that word. \n",
    "\n",
    "\n"
   ]
  },
  {
   "cell_type": "code",
   "execution_count": null,
   "metadata": {},
   "outputs": [],
   "source": [
    "score = {\"a\": 1, \"c\": 3, \"b\": 3, \"e\": 1, \"d\": 2, \"g\": 2,\n",
    "         \"f\": 4, \"i\": 1, \"h\": 4, \"k\": 5, \"j\": 8, \"m\": 3,\n",
    "         \"l\": 1, \"o\": 1, \"n\": 1, \"q\": 10, \"p\": 3, \"s\": 1,\n",
    "         \"r\": 1, \"u\": 1, \"t\": 1, \"w\": 4, \"v\": 4, \"y\": 4,\n",
    "         \"x\": 8, \"z\": 10}"
   ]
  },
  {
   "cell_type": "markdown",
   "metadata": {},
   "source": [
    "# Exercise 10 (10 Points)\n",
    "Write a program that tells me the amount of hours you have needed for this graded homework. Make a complete sentence and use str.format() to enter the amount of hours. A second print statement should tell me what exercise you think was the hardest one."
   ]
  },
  {
   "cell_type": "code",
   "execution_count": null,
   "metadata": {
    "collapsed": true,
    "scrolled": true
   },
   "outputs": [],
   "source": []
  }
 ],
 "metadata": {
  "kernelspec": {
   "display_name": "Python 3",
   "language": "python",
   "name": "python3"
  },
  "language_info": {
   "codemirror_mode": {
    "name": "ipython",
    "version": 3
   },
   "file_extension": ".py",
   "mimetype": "text/x-python",
   "name": "python",
   "nbconvert_exporter": "python",
   "pygments_lexer": "ipython3",
   "version": "3.7.6"
  }
 },
 "nbformat": 4,
 "nbformat_minor": 2
}
