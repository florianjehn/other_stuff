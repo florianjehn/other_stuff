{
 "cells": [
  {
   "cell_type": "markdown",
   "metadata": {},
   "source": [
    "# General Information\n",
    "* Please do not copy and paste solutions from other people, I would hate to give you 0 points. \n",
    "* You can get up to 100 points. The amount of points per exercise is marked behind them. The total adds up to a number larger than 100, so you do not have to get everything right for the best grade.\n",
    "* You must not turn this in later then Friday at midnight. After this you will not be able to upload the file and you will get 0 points. \n",
    "* Use comments. Exercises without or bad comments will lose points. You do not have to comment every line. Just think about what comments your future self might find helpful.\n",
    "* If the Exercises uses the phrase \"write a function\", the solution should also contain a function.\n",
    "* You will get points for: \n",
    "    * a right solution\n",
    "    * good comments\n",
    "    * good code structure\n",
    "    * elegant solutions\n",
    "* If an exercise is unclear or you find any mistakes, please contact me."
   ]
  },
  {
   "cell_type": "markdown",
   "metadata": {
    "collapsed": true
   },
   "source": [
    "# Exercise 1 (5 Points)\n",
    "Write a program that prints your name."
   ]
  },
  {
   "cell_type": "code",
   "execution_count": null,
   "metadata": {
    "collapsed": true,
    "scrolled": true
   },
   "outputs": [],
   "source": []
  },
  {
   "cell_type": "markdown",
   "metadata": {},
   "source": [
    "# Exercise 2 (10 Points)\n",
    "Write a program that prompts the user for input. If the input is below 0 it should print: \"A bit negative today aren't we?\". Otherwise the message should be: \"That's the spirit!\"."
   ]
  },
  {
   "cell_type": "code",
   "execution_count": null,
   "metadata": {
    "collapsed": true,
    "scrolled": true
   },
   "outputs": [],
   "source": []
  },
  {
   "cell_type": "markdown",
   "metadata": {},
   "source": [
    "# Exercise 3 (15 Points)\n",
    "Write a function that produces a random integer between 1 and 50. Check if the number is divisible by three without a remainder. If this has been the case five times the function should stop and return the largest of the five numbers that haven been divisible by three. On every iteration the program should print the number it randomly created. "
   ]
  },
  {
   "cell_type": "code",
   "execution_count": null,
   "metadata": {
    "collapsed": true,
    "scrolled": true
   },
   "outputs": [],
   "source": []
  },
  {
   "cell_type": "markdown",
   "metadata": {},
   "source": [
    "# Exercise 4 (20 Points)\n",
    "Write a function that takes two lists and checks if they have the same length. If this is not the case the function should raise a ValueError. If the have the same length the function should create a dictionary, using the first list for keys and the second list for values. This should happen in a try except statement, for the case the first list contains mutable types. Finally, the function should return the dictionary."
   ]
  },
  {
   "cell_type": "code",
   "execution_count": null,
   "metadata": {
    "collapsed": true,
    "scrolled": true
   },
   "outputs": [],
   "source": []
  },
  {
   "cell_type": "markdown",
   "metadata": {},
   "source": [
    "# Exercise 5 (25 Points)\n",
    "The following exercise uses recursion. A bit of a mindbending concept, which is based on functions calling themselve. For example:"
   ]
  },
  {
   "cell_type": "code",
   "execution_count": null,
   "metadata": {
    "scrolled": true
   },
   "outputs": [],
   "source": [
    "def recursion(n):\n",
    "    print(n)\n",
    "    if n < 10:\n",
    "        recursion(n + 1)\n",
    "recursion(1)"
   ]
  },
  {
   "cell_type": "markdown",
   "metadata": {},
   "source": [
    "Recursion is helpful when you want to do something, but you do not know beforehand how often you want to do it. With this knowledge let us try to tackle the following exercise:\n",
    "\n",
    "A palindrome is the same word backwards and forwards, for example \"noon\" or \"Anna\". A palindrome can be defined recursively:\n",
    "\n",
    "A word is a palindrome if the first and last letters are the same and the middle is a palindrome. Built a program that checks if a word is palindrome in a recursive way. The following functions might be helpful:"
   ]
  },
  {
   "cell_type": "code",
   "execution_count": null,
   "metadata": {
    "collapsed": true,
    "scrolled": true
   },
   "outputs": [],
   "source": [
    "def first(word):\n",
    "    return word[0]\n",
    "def last(word):\n",
    "    return word[-1]\n",
    "def middle(word):\n",
    "    return word[1:-1]"
   ]
  },
  {
   "cell_type": "markdown",
   "metadata": {},
   "source": [
    "# Exercise 6 (15 Points)\n",
    "Write a function that calculates the cumulative sum of a list and returns the result."
   ]
  },
  {
   "cell_type": "code",
   "execution_count": null,
   "metadata": {
    "collapsed": true,
    "scrolled": true
   },
   "outputs": [],
   "source": []
  },
  {
   "cell_type": "markdown",
   "metadata": {},
   "source": [
    "# Exercise 7 (15 Points)\n",
    "Imagine a two-dimensional coordinate system. When you create a point in this coordinate system it has an absolute distance from the point (0,0). Write a function that takes a point and calculates its distance from (0,0) and return it. The function should make sure that the passed argument is a tuple of length two, otherwise it should raise a value error. "
   ]
  },
  {
   "cell_type": "code",
   "execution_count": null,
   "metadata": {
    "collapsed": true,
    "scrolled": true
   },
   "outputs": [],
   "source": []
  },
  {
   "cell_type": "markdown",
   "metadata": {},
   "source": [
    "# Exercise 8 (10 Points)\n",
    "Write a program that prints the amount of hours you have needed for this graded homework. Make a complete sentence and use str.format(). "
   ]
  },
  {
   "cell_type": "code",
   "execution_count": null,
   "metadata": {
    "collapsed": true,
    "scrolled": true
   },
   "outputs": [],
   "source": []
  }
 ],
 "metadata": {
  "kernelspec": {
   "display_name": "Python 3",
   "language": "python",
   "name": "python3"
  },
  "language_info": {
   "codemirror_mode": {
    "name": "ipython",
    "version": 3
   },
   "file_extension": ".py",
   "mimetype": "text/x-python",
   "name": "python",
   "nbconvert_exporter": "python",
   "pygments_lexer": "ipython3",
   "version": "3.6.1"
  }
 },
 "nbformat": 4,
 "nbformat_minor": 2
}
