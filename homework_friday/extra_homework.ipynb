{
 "cells": [
  {
   "cell_type": "markdown",
   "metadata": {},
   "source": [
    "# Exercise 1 (20 points)\n",
    "\n",
    "Say you have a list value like this:\n",
    "spam = ['apples', 'bananas', 'tofu', 'cats']\n",
    "Write a function that takes a list value as an argument and returns\n",
    "a string with all the items separated by a comma and a space, with and\n",
    "inserted before the last item. For example, passing the previous spam list to\n",
    "the function would return 'apples, bananas, tofu, and cats' . But your func-\n",
    "tion should be able to work with any list value passed to it."
   ]
  },
  {
   "cell_type": "code",
   "execution_count": null,
   "metadata": {},
   "outputs": [],
   "source": []
  },
  {
   "cell_type": "markdown",
   "metadata": {},
   "source": [
    "# Exercise 2 (20 points)\n",
    "Write a function called nested_sum that takes a list of lists of integers and adds up\n",
    "the elements from all of the nested lists. For example:\n",
    "\n",
    "For nested_sum([[1, 2], [3], [4, 5, 6]]) the result should be 21\n",
    "\n"
   ]
  },
  {
   "cell_type": "code",
   "execution_count": null,
   "metadata": {},
   "outputs": [],
   "source": []
  },
  {
   "cell_type": "markdown",
   "metadata": {},
   "source": [
    "# Exercise 3 (20 points)\n",
    "\n",
    "Write a function called middle that takes a list and returns a new list that contains\n",
    "all but the first and last elements. "
   ]
  },
  {
   "cell_type": "code",
   "execution_count": null,
   "metadata": {},
   "outputs": [],
   "source": []
  },
  {
   "cell_type": "markdown",
   "metadata": {},
   "source": [
    "# Exercise 4 (20 points)\n",
    "\n",
    "Write a Python function that takes a number as a parameter and check the number is prime or not. \n",
    "\n",
    "Note : A prime number (or a prime) is a natural number greater than 1 and that has no positive divisors other than 1 and itself. "
   ]
  },
  {
   "cell_type": "code",
   "execution_count": null,
   "metadata": {},
   "outputs": [],
   "source": []
  }
 ],
 "metadata": {
  "kernelspec": {
   "display_name": "Python 3",
   "language": "python",
   "name": "python3"
  },
  "language_info": {
   "codemirror_mode": {
    "name": "ipython",
    "version": 3
   },
   "file_extension": ".py",
   "mimetype": "text/x-python",
   "name": "python",
   "nbconvert_exporter": "python",
   "pygments_lexer": "ipython3",
   "version": "3.7.6"
  }
 },
 "nbformat": 4,
 "nbformat_minor": 2
}
