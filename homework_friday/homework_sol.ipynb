{
 "cells": [
  {
   "cell_type": "markdown",
   "metadata": {},
   "source": [
    "# General Information\n",
    "* Please do not copy and paste solutions from other people, I would hate to give you 0 points. \n",
    "* You can get up to 100 points. The amount of points per exercise is marked behind them. The total adds up to a number larger than 100, so you do not have to get everything right for the best grade.\n",
    "* You must not turn this in later then Friday at midnight. After this you will not be able to upload the file and you will get 0 points. \n",
    "* Use comments. Exercises without or bad comments will lose points. You do not have to comment every line. Just think about what comments your future self might find helpful.\n",
    "* If the Exercises uses the phrase \"write a function\", the solution should also contain a function.\n",
    "* You will get points for: \n",
    "    * a right solution\n",
    "    * good comments\n",
    "    * good code structure\n",
    "    * elegant solutions\n",
    "* I am not sure how hard those exercises will be for you, so the points for the exercises are not final.\n",
    "* Please upload your solution in the form of this notebook.\n",
    "* If an exercise is unclear or you find any mistakes, please contact me."
   ]
  },
  {
   "cell_type": "markdown",
   "metadata": {
    "collapsed": true
   },
   "source": [
    "# Exercise 1 (5 Points)\n",
    "Write a program that prints your name."
   ]
  },
  {
   "cell_type": "code",
   "execution_count": 1,
   "metadata": {
    "scrolled": true
   },
   "outputs": [
    {
     "name": "stdout",
     "output_type": "stream",
     "text": [
      "Florian\n"
     ]
    }
   ],
   "source": [
    "print(\"Florian\")"
   ]
  },
  {
   "cell_type": "markdown",
   "metadata": {},
   "source": [
    "# Exercise 2 (10 Points)\n",
    "Write a program that prompts the user for input. If the input is below 0 it should print: \"A bit negative today aren't we?\". Otherwise the message should be: \"That's the spirit!\"."
   ]
  },
  {
   "cell_type": "code",
   "execution_count": 2,
   "metadata": {
    "scrolled": true
   },
   "outputs": [
    {
     "name": "stdout",
     "output_type": "stream",
     "text": [
      "Number please: 4\n",
      "That's the spirit!\n"
     ]
    }
   ],
   "source": [
    "prompt = float(input(\"Number please: \"))\n",
    "if prompt < 0:\n",
    "    print(\"A bit negative today aren't we?\")\n",
    "else:\n",
    "    print(\"That's the spirit!\")"
   ]
  },
  {
   "cell_type": "markdown",
   "metadata": {},
   "source": [
    "# Exercise 3 (15 Points)\n",
    "Write a function that produces a random integer between 1 and 50. Check if the number is divisible by three without a remainder. If this has been the case five times the function should stop and return the largest of the five numbers that haven been divisible by three. On every iteration the program should print the number it randomly created. "
   ]
  },
  {
   "cell_type": "code",
   "execution_count": 15,
   "metadata": {
    "scrolled": true
   },
   "outputs": [
    {
     "name": "stdout",
     "output_type": "stream",
     "text": [
      "49\n",
      "41\n",
      "9\n",
      "2\n",
      "48\n",
      "49\n",
      "30\n",
      "11\n",
      "28\n",
      "25\n",
      "25\n",
      "41\n",
      "31\n",
      "16\n",
      "34\n",
      "34\n",
      "29\n",
      "27\n",
      "40\n",
      "30\n",
      "48\n"
     ]
    }
   ],
   "source": [
    "import random\n",
    "def remainder_checker():\n",
    "    were_divisible = []\n",
    "    while len(were_divisible) < 5:\n",
    "        random_num = random.randint(1, 51)\n",
    "        if random_num % 3 == 0:\n",
    "            were_divisible.append(random_num)\n",
    "        print(random_num)\n",
    "    return max(were_divisible)\n",
    "print(remainder_checker())        "
   ]
  },
  {
   "cell_type": "markdown",
   "metadata": {},
   "source": [
    "# Exercise 4 (20 Points)\n",
    "Write a function that takes two lists and checks if they have the same length. If this is not the case the function should raise a ValueError. If the have the same length the function should create a dictionary, using the first list for keys and the second list for values. This should happen in a try except statement, for the case the first list contains mutable types. Finally, the function should return the dictionary."
   ]
  },
  {
   "cell_type": "code",
   "execution_count": 18,
   "metadata": {
    "scrolled": true
   },
   "outputs": [
    {
     "name": "stdout",
     "output_type": "stream",
     "text": [
      "Key is mutable\n",
      "Goint to next key\n"
     ]
    },
    {
     "data": {
      "text/plain": [
       "{2: 2}"
      ]
     },
     "execution_count": 18,
     "metadata": {},
     "output_type": "execute_result"
    }
   ],
   "source": [
    "def create_dict(list1, list2):\n",
    "    if len(list1) != len(list2):\n",
    "        raise ValueError (\"Lists do not have the same length\")\n",
    "    else:\n",
    "        list_dict = {}\n",
    "        for l1, l2 in zip(list1, list2):\n",
    "            try:\n",
    "                list_dict[l1] = l2\n",
    "            except TypeError:\n",
    "                print(\"Key is mutable\")\n",
    "                print(\"Goint to next key\")\n",
    "                continue\n",
    "        return list_dict\n",
    "    \n",
    "# create_dict([1], [1,2])\n",
    "create_dict([[1,2], 2], [1,2])"
   ]
  },
  {
   "cell_type": "markdown",
   "metadata": {},
   "source": [
    "# Exercise 5 (25 Points)\n",
    "The following exercise uses recursion. A bit of a mindbending concept, which is based on functions calling themselve. For example:"
   ]
  },
  {
   "cell_type": "code",
   "execution_count": null,
   "metadata": {
    "collapsed": true,
    "scrolled": true
   },
   "outputs": [],
   "source": [
    "def recursion(n):\n",
    "    print(n)\n",
    "    if n < 10:\n",
    "        recursion(n + 1)\n",
    "recursion(1)"
   ]
  },
  {
   "cell_type": "markdown",
   "metadata": {},
   "source": [
    "Recursion is helpful when you want to do something, but you do not know beforehand how often you want to do it. With this knowledge let us try to tackle the following exercise:\n",
    "\n",
    "A palindrome is the same word backwards and forwards, for example \"noon\" or \"Anna\". A palindrome can be defined recursively:\n",
    "\n",
    "A word is a palindrome if the first and last letters are the same and the middle is a palindrome. Built a program that checks if a word is palindrome in a recursive way. The following functions might be helpful:"
   ]
  },
  {
   "cell_type": "code",
   "execution_count": 27,
   "metadata": {
    "scrolled": true
   },
   "outputs": [
    {
     "name": "stdout",
     "output_type": "stream",
     "text": [
      "True\n",
      "False\n",
      "True\n"
     ]
    }
   ],
   "source": [
    "def first(word):\n",
    "    return word[0]\n",
    "def last(word):\n",
    "    return word[-1]\n",
    "def middle(word):\n",
    "    return word[1:-1]\n",
    "\n",
    "def is_palindrome(word):\n",
    "    if len(word) < 2:\n",
    "        return True\n",
    "    else:\n",
    "        if first(word) == last(word):\n",
    "            return is_palindrome(middle(word))\n",
    "        else:\n",
    "            return False\n",
    "        \n",
    "print(is_palindrome(\"anna\"))\n",
    "print(is_palindrome(\"Franz\"))\n",
    "print(is_palindrome(\"alula\"))"
   ]
  },
  {
   "cell_type": "markdown",
   "metadata": {},
   "source": [
    "# Exercise 6 (15 Points)\n",
    "Write a function that calculates the cumulative sum of a list and and returns a new list where the ith element is the sum of the first i+1 elements of the original list. \n",
    "\n",
    "Example:\n",
    "Given the list [1, 2, 3] the function should return [1, 3, 6]"
   ]
  },
  {
   "cell_type": "code",
   "execution_count": 1,
   "metadata": {
    "scrolled": true
   },
   "outputs": [
    {
     "name": "stdout",
     "output_type": "stream",
     "text": [
      "[1, 3, 6]\n"
     ]
    }
   ],
   "source": [
    "def cumsum(liste):\n",
    "    cs_list = []\n",
    "    for i, item in enumerate(liste):\n",
    "        if item == liste[0]:\n",
    "            cs_list.append(item)\n",
    "        else:\n",
    "            cs_list.append(cs_list[i-1] + item)\n",
    "    return cs_list\n",
    "\n",
    "print(cumsum([1,2,3])) "
   ]
  },
  {
   "cell_type": "markdown",
   "metadata": {},
   "source": [
    "# Exercise 7 (15 Points)\n",
    "Imagine a two-dimensional coordinate system. When you create a point in this coordinate system it has an absolute distance from the point (0,0). Write a function that takes a point and calculates its distance from (0,0) and return it. The function should make sure that the passed argument is a tuple of length two, otherwise it should raise a value error. "
   ]
  },
  {
   "cell_type": "code",
   "execution_count": 36,
   "metadata": {
    "scrolled": true
   },
   "outputs": [
    {
     "name": "stdout",
     "output_type": "stream",
     "text": [
      "5.0\n"
     ]
    }
   ],
   "source": [
    "import math\n",
    "def abs_dist(point):\n",
    "    if type(point) != type((1,2)):\n",
    "        raise ValueError (\"Not a tuple\")\n",
    "    else:\n",
    "        return abs(math.sqrt(point[0]**2 + point[1]**2))\n",
    "\n",
    "print(abs_dist((3,4)))"
   ]
  },
  {
   "cell_type": "markdown",
   "metadata": {},
   "source": [
    "# Exercise 8 (10 Points)\n",
    "Write a program that prints the amount of hours you have needed for this graded homework. Make a complete sentence and use str.format(). "
   ]
  },
  {
   "cell_type": "code",
   "execution_count": 32,
   "metadata": {
    "scrolled": true
   },
   "outputs": [
    {
     "name": "stdout",
     "output_type": "stream",
     "text": [
      "I needed 1 hour for this assigment\n"
     ]
    }
   ],
   "source": [
    "print(\"I needed {} hour for this assigment\".format(1))"
   ]
  }
 ],
 "metadata": {
  "kernelspec": {
   "display_name": "Python 3",
   "language": "python",
   "name": "python3"
  },
  "language_info": {
   "codemirror_mode": {
    "name": "ipython",
    "version": 3
   },
   "file_extension": ".py",
   "mimetype": "text/x-python",
   "name": "python",
   "nbconvert_exporter": "python",
   "pygments_lexer": "ipython3",
   "version": "3.7.6"
  }
 },
 "nbformat": 4,
 "nbformat_minor": 2
}
